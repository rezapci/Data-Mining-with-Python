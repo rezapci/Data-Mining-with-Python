{
  "nbformat": 4,
  "nbformat_minor": 0,
  "metadata": {
    "kernelspec": {
      "display_name": "Python 3",
      "language": "python",
      "name": "python3"
    },
    "language_info": {
      "codemirror_mode": {
        "name": "ipython",
        "version": 3
      },
      "file_extension": ".py",
      "mimetype": "text/x-python",
      "name": "python",
      "nbconvert_exporter": "python",
      "pygments_lexer": "ipython3",
      "version": "3.5.1"
    },
    "colab": {
      "name": "Data_mining_1st.ipynb",
      "provenance": [],
      "collapsed_sections": [],
      "include_colab_link": true
    }
  },
  "cells": [
    {
      "cell_type": "markdown",
      "metadata": {
        "id": "view-in-github",
        "colab_type": "text"
      },
      "source": [
        "<a href=\"https://colab.research.google.com/github/rezapci/Data-Mining-with-Python/blob/master/Data_mining_1st.ipynb\" target=\"_parent\"><img src=\"https://colab.research.google.com/assets/colab-badge.svg\" alt=\"Open In Colab\"/></a>"
      ]
    },
    {
      "cell_type": "code",
      "metadata": {
        "id": "Sa_5l2ZEbiQW",
        "colab_type": "code",
        "colab": {
          "base_uri": "https://localhost:8080/",
          "height": 35
        },
        "outputId": "8feb92db-6fea-40d8-a50e-e3cfd88723b3"
      },
      "source": [
        "import numpy as np\n",
        "import pandas as pd\n",
        "dataset_filename = \"affinity_dataset.txt\"\n",
        "X = np.loadtxt(dataset_filename)\n",
        "n_samples, n_features = X.shape\n",
        "print(\"This dataset has {0} samples and {1} features\".format(n_samples, n_features))"
      ],
      "execution_count": 7,
      "outputs": [
        {
          "output_type": "stream",
          "text": [
            "This dataset has 100 samples and 5 features\n"
          ],
          "name": "stdout"
        }
      ]
    },
    {
      "cell_type": "code",
      "metadata": {
        "id": "xRidMkyWb_os",
        "colab_type": "code",
        "colab": {
          "resources": {
            "http://localhost:8080/nbextensions/google.colab/files.js": {
              "data": "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",
              "ok": true,
              "headers": [
                [
                  "content-type",
                  "application/javascript"
                ]
              ],
              "status": 200,
              "status_text": ""
            }
          },
          "base_uri": "https://localhost:8080/",
          "height": 41
        },
        "outputId": "572350f9-f064-4332-cc7e-45d40a20e444"
      },
      "source": [
        "from google.colab import files\n",
        "uploaded = files.upload()"
      ],
      "execution_count": 8,
      "outputs": [
        {
          "output_type": "display_data",
          "data": {
            "text/html": [
              "\n",
              "     <input type=\"file\" id=\"files-f410dd0d-df92-4b69-b87a-b2d7d2431309\" name=\"files[]\" multiple disabled />\n",
              "     <output id=\"result-f410dd0d-df92-4b69-b87a-b2d7d2431309\">\n",
              "      Upload widget is only available when the cell has been executed in the\n",
              "      current browser session. Please rerun this cell to enable.\n",
              "      </output>\n",
              "      <script src=\"/nbextensions/google.colab/files.js\"></script> "
            ],
            "text/plain": [
              "<IPython.core.display.HTML object>"
            ]
          },
          "metadata": {
            "tags": []
          }
        }
      ]
    },
    {
      "cell_type": "code",
      "metadata": {
        "id": "xFXlynyEbiQZ",
        "colab_type": "code",
        "colab": {
          "base_uri": "https://localhost:8080/",
          "height": 104
        },
        "outputId": "df10b589-7f89-46ac-af86-fa8a7c5ba58b"
      },
      "source": [
        "print(X[:5])"
      ],
      "execution_count": 9,
      "outputs": [
        {
          "output_type": "stream",
          "text": [
            "[[0. 1. 0. 0. 0.]\n",
            " [1. 1. 0. 0. 0.]\n",
            " [0. 0. 1. 0. 1.]\n",
            " [1. 1. 0. 0. 0.]\n",
            " [0. 0. 1. 1. 1.]]\n"
          ],
          "name": "stdout"
        }
      ]
    },
    {
      "cell_type": "code",
      "metadata": {
        "id": "g2KBrZe7biQb",
        "colab_type": "code",
        "colab": {}
      },
      "source": [
        "# The names of the features, for your reference.\n",
        "features = [\"bread\", \"milk\", \"cheese\", \"apples\", \"bananas\"]"
      ],
      "execution_count": 0,
      "outputs": []
    },
    {
      "cell_type": "markdown",
      "metadata": {
        "id": "S8vy_n0TbiQc",
        "colab_type": "text"
      },
      "source": [
        "In our first example, we will compute the Support and Confidence of the rule \"If a person buys Apples, they also buy Bananas\"."
      ]
    },
    {
      "cell_type": "code",
      "metadata": {
        "id": "7qmHA5-TbiQd",
        "colab_type": "code",
        "colab": {
          "base_uri": "https://localhost:8080/",
          "height": 35
        },
        "outputId": "06502836-0472-4e59-83d6-b0df1ac57c95"
      },
      "source": [
        "# First, how many rows contain our premise: that a person is buying apples\n",
        "num_apple_purchases = 0\n",
        "for sample in X:\n",
        "    if sample[3] == 1:  # This person bought Apples\n",
        "        num_apple_purchases += 1\n",
        "print(\"{0} people bought Apples\".format(num_apple_purchases))"
      ],
      "execution_count": 11,
      "outputs": [
        {
          "output_type": "stream",
          "text": [
            "43 people bought Apples\n"
          ],
          "name": "stdout"
        }
      ]
    },
    {
      "cell_type": "code",
      "metadata": {
        "id": "FLgDnMw6biQf",
        "colab_type": "code",
        "colab": {
          "base_uri": "https://localhost:8080/",
          "height": 52
        },
        "outputId": "58bc9a36-6f9b-4ca2-93bf-21afee12d0e9"
      },
      "source": [
        "# How many of the cases that a person bought Apples involved the people purchasing Bananas too?\n",
        "# Record both cases where the rule is valid and is invalid.\n",
        "rule_valid = 0\n",
        "rule_invalid = 0\n",
        "for sample in X:\n",
        "    if sample[3] == 1:  # This person bought Apples\n",
        "        if sample[4] == 1:\n",
        "            # This person bought both Apples and Bananas\n",
        "            rule_valid += 1\n",
        "        else:\n",
        "            # This person bought Apples, but not Bananas\n",
        "            rule_invalid += 1\n",
        "print(\"{0} cases of the rule being valid were discovered\".format(rule_valid))\n",
        "print(\"{0} cases of the rule being invalid were discovered\".format(rule_invalid))"
      ],
      "execution_count": 12,
      "outputs": [
        {
          "output_type": "stream",
          "text": [
            "27 cases of the rule being valid were discovered\n",
            "16 cases of the rule being invalid were discovered\n"
          ],
          "name": "stdout"
        }
      ]
    },
    {
      "cell_type": "code",
      "metadata": {
        "id": "XZH5PgilbiQg",
        "colab_type": "code",
        "colab": {
          "base_uri": "https://localhost:8080/",
          "height": 52
        },
        "outputId": "050ff2e5-209b-4c13-a709-b2ac5f600830"
      },
      "source": [
        "# Now we have all the information needed to compute Support and Confidence\n",
        "support = rule_valid  # The Support is the number of times the rule is discovered.\n",
        "confidence = rule_valid / num_apple_purchases\n",
        "print(\"The support is {0} and the confidence is {1:.3f}.\".format(support, confidence))\n",
        "# Confidence can be thought of as a percentage using the following:\n",
        "print(\"As a percentage, that is {0:.1f}%.\".format(100 * confidence))"
      ],
      "execution_count": 13,
      "outputs": [
        {
          "output_type": "stream",
          "text": [
            "The support is 27 and the confidence is 0.628.\n",
            "As a percentage, that is 62.8%.\n"
          ],
          "name": "stdout"
        }
      ]
    },
    {
      "cell_type": "code",
      "metadata": {
        "id": "boW7SopLbiQi",
        "colab_type": "code",
        "colab": {}
      },
      "source": [
        "from collections import defaultdict\n",
        "# Now compute for all possible rules\n",
        "valid_rules = defaultdict(int)\n",
        "invalid_rules = defaultdict(int)\n",
        "num_occurences = defaultdict(int)\n",
        "\n",
        "for sample in X:\n",
        "    for premise in range(n_features):\n",
        "        if sample[premise] == 0: continue\n",
        "        # Record that the premise was bought in another transaction\n",
        "        num_occurences[premise] += 1\n",
        "        for conclusion in range(n_features):\n",
        "            if premise == conclusion:  # It makes little sense to measure if X -> X.\n",
        "                continue\n",
        "            if sample[conclusion] == 1:\n",
        "                # This person also bought the conclusion item\n",
        "                valid_rules[(premise, conclusion)] += 1\n",
        "            else:\n",
        "                # This person bought the premise, but not the conclusion\n",
        "                invalid_rules[(premise, conclusion)] += 1\n",
        "support = valid_rules\n",
        "confidence = defaultdict(float)\n",
        "for premise, conclusion in valid_rules.keys():\n",
        "    confidence[(premise, conclusion)] = valid_rules[(premise, conclusion)] / num_occurences[premise]"
      ],
      "execution_count": 0,
      "outputs": []
    },
    {
      "cell_type": "code",
      "metadata": {
        "id": "HRjj5r8SbiQk",
        "colab_type": "code",
        "colab": {
          "base_uri": "https://localhost:8080/",
          "height": 1000
        },
        "outputId": "eda15b36-5771-466d-97a4-bcb6bbaf6e38"
      },
      "source": [
        "for premise, conclusion in confidence:\n",
        "    premise_name = features[premise]\n",
        "    conclusion_name = features[conclusion]\n",
        "    print(\"Rule: If a person buys {0} they will also buy {1}\".format(premise_name, conclusion_name))\n",
        "    print(\" - Confidence: {0:.3f}\".format(confidence[(premise, conclusion)]))\n",
        "    print(\" - Support: {0}\".format(support[(premise, conclusion)]))\n",
        "    print(\"\")"
      ],
      "execution_count": 15,
      "outputs": [
        {
          "output_type": "stream",
          "text": [
            "Rule: If a person buys bread they will also buy milk\n",
            " - Confidence: 0.464\n",
            " - Support: 13\n",
            "\n",
            "Rule: If a person buys milk they will also buy bread\n",
            " - Confidence: 0.250\n",
            " - Support: 13\n",
            "\n",
            "Rule: If a person buys cheese they will also buy bananas\n",
            " - Confidence: 0.513\n",
            " - Support: 20\n",
            "\n",
            "Rule: If a person buys bananas they will also buy cheese\n",
            " - Confidence: 0.351\n",
            " - Support: 20\n",
            "\n",
            "Rule: If a person buys cheese they will also buy apples\n",
            " - Confidence: 0.564\n",
            " - Support: 22\n",
            "\n",
            "Rule: If a person buys apples they will also buy cheese\n",
            " - Confidence: 0.512\n",
            " - Support: 22\n",
            "\n",
            "Rule: If a person buys apples they will also buy bananas\n",
            " - Confidence: 0.628\n",
            " - Support: 27\n",
            "\n",
            "Rule: If a person buys bananas they will also buy apples\n",
            " - Confidence: 0.474\n",
            " - Support: 27\n",
            "\n",
            "Rule: If a person buys milk they will also buy apples\n",
            " - Confidence: 0.346\n",
            " - Support: 18\n",
            "\n",
            "Rule: If a person buys apples they will also buy milk\n",
            " - Confidence: 0.419\n",
            " - Support: 18\n",
            "\n",
            "Rule: If a person buys milk they will also buy bananas\n",
            " - Confidence: 0.519\n",
            " - Support: 27\n",
            "\n",
            "Rule: If a person buys bananas they will also buy milk\n",
            " - Confidence: 0.474\n",
            " - Support: 27\n",
            "\n",
            "Rule: If a person buys bread they will also buy cheese\n",
            " - Confidence: 0.179\n",
            " - Support: 5\n",
            "\n",
            "Rule: If a person buys cheese they will also buy bread\n",
            " - Confidence: 0.128\n",
            " - Support: 5\n",
            "\n",
            "Rule: If a person buys bread they will also buy bananas\n",
            " - Confidence: 0.571\n",
            " - Support: 16\n",
            "\n",
            "Rule: If a person buys bananas they will also buy bread\n",
            " - Confidence: 0.281\n",
            " - Support: 16\n",
            "\n",
            "Rule: If a person buys milk they will also buy cheese\n",
            " - Confidence: 0.212\n",
            " - Support: 11\n",
            "\n",
            "Rule: If a person buys cheese they will also buy milk\n",
            " - Confidence: 0.282\n",
            " - Support: 11\n",
            "\n",
            "Rule: If a person buys bread they will also buy apples\n",
            " - Confidence: 0.321\n",
            " - Support: 9\n",
            "\n",
            "Rule: If a person buys apples they will also buy bread\n",
            " - Confidence: 0.209\n",
            " - Support: 9\n",
            "\n"
          ],
          "name": "stdout"
        }
      ]
    },
    {
      "cell_type": "code",
      "metadata": {
        "id": "2fiEoepWbiQm",
        "colab_type": "code",
        "colab": {}
      },
      "source": [
        "def print_rule(premise, conclusion, support, confidence, features):\n",
        "    premise_name = features[premise]\n",
        "    conclusion_name = features[conclusion]\n",
        "    print(\"Rule: If a person buys {0} they will also buy {1}\".format(premise_name, conclusion_name))\n",
        "    print(\" - Confidence: {0:.3f}\".format(confidence[(premise, conclusion)]))\n",
        "    print(\" - Support: {0}\".format(support[(premise, conclusion)]))\n",
        "    print(\"\")"
      ],
      "execution_count": 0,
      "outputs": []
    },
    {
      "cell_type": "code",
      "metadata": {
        "id": "cXksSf0fbiQp",
        "colab_type": "code",
        "colab": {
          "base_uri": "https://localhost:8080/",
          "height": 87
        },
        "outputId": "c47210c4-27ba-4256-b51e-4eb984439831"
      },
      "source": [
        "premise = 1\n",
        "conclusion = 3\n",
        "print_rule(premise, conclusion, support, confidence, features)"
      ],
      "execution_count": 17,
      "outputs": [
        {
          "output_type": "stream",
          "text": [
            "Rule: If a person buys milk they will also buy apples\n",
            " - Confidence: 0.346\n",
            " - Support: 18\n",
            "\n"
          ],
          "name": "stdout"
        }
      ]
    },
    {
      "cell_type": "code",
      "metadata": {
        "id": "8KEW9Td-biQs",
        "colab_type": "code",
        "colab": {
          "base_uri": "https://localhost:8080/",
          "height": 364
        },
        "outputId": "615751c3-a640-49cd-eae9-40da87833e24"
      },
      "source": [
        "# Sort by support\n",
        "from pprint import pprint\n",
        "pprint(list(support.items()))"
      ],
      "execution_count": 18,
      "outputs": [
        {
          "output_type": "stream",
          "text": [
            "[((0, 1), 13),\n",
            " ((1, 0), 13),\n",
            " ((2, 4), 20),\n",
            " ((4, 2), 20),\n",
            " ((2, 3), 22),\n",
            " ((3, 2), 22),\n",
            " ((3, 4), 27),\n",
            " ((4, 3), 27),\n",
            " ((1, 3), 18),\n",
            " ((3, 1), 18),\n",
            " ((1, 4), 27),\n",
            " ((4, 1), 27),\n",
            " ((0, 2), 5),\n",
            " ((2, 0), 5),\n",
            " ((0, 4), 16),\n",
            " ((4, 0), 16),\n",
            " ((1, 2), 11),\n",
            " ((2, 1), 11),\n",
            " ((0, 3), 9),\n",
            " ((3, 0), 9)]\n"
          ],
          "name": "stdout"
        }
      ]
    },
    {
      "cell_type": "code",
      "metadata": {
        "id": "8tR8msTDbiQu",
        "colab_type": "code",
        "colab": {}
      },
      "source": [
        "from operator import itemgetter\n",
        "sorted_support = sorted(support.items(), key=itemgetter(1), reverse=True)"
      ],
      "execution_count": 0,
      "outputs": []
    },
    {
      "cell_type": "code",
      "metadata": {
        "id": "2jE8ZcEPbiQv",
        "colab_type": "code",
        "colab": {
          "base_uri": "https://localhost:8080/",
          "height": 451
        },
        "outputId": "6a3a9e20-3798-460c-a870-d346035497e5"
      },
      "source": [
        "for index in range(5):\n",
        "    print(\"Rule #{0}\".format(index + 1))\n",
        "    (premise, conclusion) = sorted_support[index][0]\n",
        "    print_rule(premise, conclusion, support, confidence, features)"
      ],
      "execution_count": 20,
      "outputs": [
        {
          "output_type": "stream",
          "text": [
            "Rule #1\n",
            "Rule: If a person buys apples they will also buy bananas\n",
            " - Confidence: 0.628\n",
            " - Support: 27\n",
            "\n",
            "Rule #2\n",
            "Rule: If a person buys bananas they will also buy apples\n",
            " - Confidence: 0.474\n",
            " - Support: 27\n",
            "\n",
            "Rule #3\n",
            "Rule: If a person buys milk they will also buy bananas\n",
            " - Confidence: 0.519\n",
            " - Support: 27\n",
            "\n",
            "Rule #4\n",
            "Rule: If a person buys bananas they will also buy milk\n",
            " - Confidence: 0.474\n",
            " - Support: 27\n",
            "\n",
            "Rule #5\n",
            "Rule: If a person buys cheese they will also buy apples\n",
            " - Confidence: 0.564\n",
            " - Support: 22\n",
            "\n"
          ],
          "name": "stdout"
        }
      ]
    },
    {
      "cell_type": "code",
      "metadata": {
        "id": "ZYDu23ytbiQx",
        "colab_type": "code",
        "colab": {}
      },
      "source": [
        "sorted_confidence = sorted(confidence.items(), key=itemgetter(1), reverse=True)"
      ],
      "execution_count": 0,
      "outputs": []
    },
    {
      "cell_type": "code",
      "metadata": {
        "id": "6t-CPz16biQz",
        "colab_type": "code",
        "colab": {
          "base_uri": "https://localhost:8080/",
          "height": 451
        },
        "outputId": "7deae268-2358-4cf6-da08-4f19a934de14"
      },
      "source": [
        "for index in range(5):\n",
        "    print(\"Rule #{0}\".format(index + 1))\n",
        "    (premise, conclusion) = sorted_confidence[index][0]\n",
        "    print_rule(premise, conclusion, support, confidence, features)"
      ],
      "execution_count": 22,
      "outputs": [
        {
          "output_type": "stream",
          "text": [
            "Rule #1\n",
            "Rule: If a person buys apples they will also buy bananas\n",
            " - Confidence: 0.628\n",
            " - Support: 27\n",
            "\n",
            "Rule #2\n",
            "Rule: If a person buys bread they will also buy bananas\n",
            " - Confidence: 0.571\n",
            " - Support: 16\n",
            "\n",
            "Rule #3\n",
            "Rule: If a person buys cheese they will also buy apples\n",
            " - Confidence: 0.564\n",
            " - Support: 22\n",
            "\n",
            "Rule #4\n",
            "Rule: If a person buys milk they will also buy bananas\n",
            " - Confidence: 0.519\n",
            " - Support: 27\n",
            "\n",
            "Rule #5\n",
            "Rule: If a person buys cheese they will also buy bananas\n",
            " - Confidence: 0.513\n",
            " - Support: 20\n",
            "\n"
          ],
          "name": "stdout"
        }
      ]
    }
  ]
}